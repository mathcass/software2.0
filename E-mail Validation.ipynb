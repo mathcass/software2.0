{
 "cells": [
  {
   "cell_type": "markdown",
   "metadata": {},
   "source": [
    "# E-mail Validation in Software 2.0\n",
    "\n",
    "I few weeks ago Andrej Karpathy's article on [Software 2.0](https://medium.com/@karpathy/software-2-0-a64152b37c35). It paints a pretty enlightening vision of what the future of software development could look like with tools like deep learning in the picture. Pete Warden had a [follow-up](https://petewarden.com/2017/11/13/deep-learning-is-eating-software/) to Karpathy's post about it going into even more possibilities on the subject. That got me thinking about how some of the simple things programmers do could be automated, like developing validators, cleaning up input text, parsing text, data, and images, etc.\n",
    "\n",
    "So, I figured it might be neat to write an e-mail validation tool. \n",
    "\n",
    "![E-mail validation is pretty popular!](email_validation.png)\n",
    "\n",
    "E-mail validation is something that happens everywhere and I'd wager that every programmer has either used one off-the-shelf or else written a simple one on their own. It's [far from trivial](http://www.regular-expressions.info/email.html) and in most cases not 100% correct. \n",
    "\n",
    "Naturally, a good test of what Software 2.0 looks like would be asking the question, \"Could someone develop a deep learning model to validate e-mails?\" With that, borrowing Warden's terms, rather than programming a validator, the software engineer is now teaching a model how to validate e-mails. The real test of how well this works is whether the validator works not only on unseen e-mails but on e-mails that look completely novel in nature, but are also valid."
   ]
  },
  {
   "cell_type": "markdown",
   "metadata": {},
   "source": [
    "## Building some tools to help\n",
    "\n",
    "Before we start training models, we start by building some helper functions to generate both \"real-looking\" and non-real-looking e-mail addresses."
   ]
  },
  {
   "cell_type": "code",
   "execution_count": 1,
   "metadata": {},
   "outputs": [],
   "source": [
    "import random\n",
    "import string\n",
    "\n",
    "import scipy.stats\n",
    "\n",
    "def random_letters(length=10):\n",
    "    \"\"\"Generates random letters with a certain length\"\"\"\n",
    "    letters = string.ascii_lowercase\n",
    "    return ''.join(random.choice(letters) for i in range(length))\n",
    "\n",
    "def fake_email_generator(n=10):\n",
    "    \"\"\"Generates a fake 'valid-looking' email address\"\"\"\n",
    "    \n",
    "    domains = ['gmail.com', 'yahoo.com', 'aol.com', 'hotmail.com',\n",
    "              'live.com', 'mail.ru']\n",
    "    for _ in range(n):\n",
    "        l = scipy.stats.poisson(9).rvs() + 1  # Strictly positive Poisson with mean 10\n",
    "        domain = random.choice(domains)\n",
    "        yield random_letters(l) + '@' + domain\n",
    "        \n",
    "def fake_non_email_generator(n=10):\n",
    "    \"\"\"Generates a fake string that isn't an email address\"\"\"\n",
    "    for _ in range(n):\n",
    "        l = scipy.stats.poisson(9).rvs() + 1\n",
    "        yield random_letters(l)"
   ]
  },
  {
   "cell_type": "code",
   "execution_count": 2,
   "metadata": {},
   "outputs": [
    {
     "name": "stdout",
     "output_type": "stream",
     "text": [
      "['rpqlkssdapdaxwqmsc@aol.com', 'odwwohwtjc@yahoo.com', 'fociqvyzk@mail.ru', 'spaxeres@gmail.com', 'gxjbwt@hotmail.com', 'tzodige@gmail.com', 'vlighecxss@live.com', 'bgtyumzk@mail.ru', 'ykzcjesfiii@yahoo.com', 'omytwerxyfzbysm@yahoo.com']\n",
      "['wummyupw', 'foqphyljepyofq', 'tgzfvidt', 'qsduzjzp', 'znyjexojvt', 'jwhmffyewu', 'njsfvscwidd', 'oupneoony', 'wfmrmr', 'cnrugyhvbjb']\n"
     ]
    }
   ],
   "source": [
    "print(list(fake_email_generator()))\n",
    "print(list(fake_non_email_generator()))"
   ]
  },
  {
   "cell_type": "code",
   "execution_count": 3,
   "metadata": {},
   "outputs": [],
   "source": [
    "import numpy as np\n",
    "\n",
    "n_fake, n_real = 100, 50\n",
    "\n",
    "raw_email_strings = list(fake_non_email_generator(n_fake)) + list(fake_email_generator(n_real))\n",
    "y = np.concatenate([np.zeros((n_fake,)), np.ones((n_real,))])"
   ]
  },
  {
   "cell_type": "code",
   "execution_count": 4,
   "metadata": {},
   "outputs": [],
   "source": [
    "# Perform some random shuffling of the data\n",
    "# NB: shuffling needs to be the same between strings and y\n",
    "\n",
    "shuffle_idx = np.arange(len(raw_email_strings))\n",
    "np.random.shuffle(shuffle_idx)\n",
    "shuffle_idx\n",
    "\n",
    "\n",
    "raw_email_strings = [\n",
    "    raw_email_strings[i] for i in shuffle_idx\n",
    "]\n",
    "y = y[shuffle_idx]"
   ]
  },
  {
   "cell_type": "code",
   "execution_count": 5,
   "metadata": {},
   "outputs": [
    {
     "name": "stderr",
     "output_type": "stream",
     "text": [
      "Using TensorFlow backend.\n"
     ]
    }
   ],
   "source": [
    "from keras.preprocessing.text import Tokenizer\n",
    "from keras.preprocessing.sequence import pad_sequences\n",
    "\n",
    "tzr = Tokenizer(filters='', char_level=True)\n",
    "tzr.fit_on_texts(raw_email_strings)\n",
    "email_sequences = pad_sequences(tzr.texts_to_sequences(raw_email_strings))"
   ]
  },
  {
   "cell_type": "code",
   "execution_count": 6,
   "metadata": {},
   "outputs": [],
   "source": [
    "num_characters = len(tzr.index_docs) + 1"
   ]
  },
  {
   "cell_type": "code",
   "execution_count": 7,
   "metadata": {},
   "outputs": [],
   "source": [
    "from keras.models import Sequential\n",
    "from keras.layers import Dense, SimpleRNN, Embedding, LSTM"
   ]
  },
  {
   "cell_type": "code",
   "execution_count": 8,
   "metadata": {
    "scrolled": false
   },
   "outputs": [],
   "source": [
    "model = Sequential()\n",
    "model.add(Embedding(num_characters, 10))\n",
    "model.add(LSTM(200))\n",
    "model.add(Dense(200, activation='relu'))\n",
    "model.add(Dense(1, activation='sigmoid'))"
   ]
  },
  {
   "cell_type": "code",
   "execution_count": 9,
   "metadata": {},
   "outputs": [],
   "source": [
    "model.compile(optimizer='rmsprop', loss='binary_crossentropy', \n",
    "              metrics=['acc'])"
   ]
  },
  {
   "cell_type": "code",
   "execution_count": 10,
   "metadata": {
    "scrolled": true
   },
   "outputs": [
    {
     "name": "stdout",
     "output_type": "stream",
     "text": [
      "_________________________________________________________________\n",
      "Layer (type)                 Output Shape              Param #   \n",
      "=================================================================\n",
      "embedding_1 (Embedding)      (None, None, 10)          290       \n",
      "_________________________________________________________________\n",
      "lstm_1 (LSTM)                (None, 200)               168800    \n",
      "_________________________________________________________________\n",
      "dense_1 (Dense)              (None, 200)               40200     \n",
      "_________________________________________________________________\n",
      "dense_2 (Dense)              (None, 1)                 201       \n",
      "=================================================================\n",
      "Total params: 209,491\n",
      "Trainable params: 209,491\n",
      "Non-trainable params: 0\n",
      "_________________________________________________________________\n"
     ]
    }
   ],
   "source": [
    "model.summary()"
   ]
  },
  {
   "cell_type": "code",
   "execution_count": 11,
   "metadata": {},
   "outputs": [
    {
     "name": "stdout",
     "output_type": "stream",
     "text": [
      "Train on 120 samples, validate on 30 samples\n",
      "Epoch 1/10\n",
      "120/120 [==============================] - 1s 6ms/step - loss: 0.9809 - acc: 0.6833 - val_loss: 0.5424 - val_acc: 0.9333\n",
      "Epoch 2/10\n",
      "120/120 [==============================] - 1s 4ms/step - loss: 0.4537 - acc: 0.8833 - val_loss: 1.1964 - val_acc: 0.3000\n",
      "Epoch 3/10\n",
      "120/120 [==============================] - 0s 4ms/step - loss: 0.5035 - acc: 0.8000 - val_loss: 0.8767 - val_acc: 0.3333\n",
      "Epoch 4/10\n",
      "120/120 [==============================] - 0s 4ms/step - loss: 0.5238 - acc: 0.7583 - val_loss: 0.5198 - val_acc: 0.8333\n",
      "Epoch 5/10\n",
      "120/120 [==============================] - 0s 3ms/step - loss: 0.3173 - acc: 0.9500 - val_loss: 0.1165 - val_acc: 0.9333\n",
      "Epoch 6/10\n",
      "120/120 [==============================] - 0s 3ms/step - loss: 0.2019 - acc: 0.9500 - val_loss: 0.0867 - val_acc: 0.9333\n",
      "Epoch 7/10\n",
      "120/120 [==============================] - 0s 3ms/step - loss: 0.1942 - acc: 0.9333 - val_loss: 0.2465 - val_acc: 0.9667\n",
      "Epoch 8/10\n",
      "120/120 [==============================] - 0s 3ms/step - loss: 0.1787 - acc: 0.9250 - val_loss: 0.1685 - val_acc: 0.9667\n",
      "Epoch 9/10\n",
      "120/120 [==============================] - 0s 3ms/step - loss: 0.1041 - acc: 0.9750 - val_loss: 0.0385 - val_acc: 1.0000\n",
      "Epoch 10/10\n",
      "120/120 [==============================] - 0s 3ms/step - loss: 0.3081 - acc: 0.9000 - val_loss: 0.1298 - val_acc: 1.0000\n"
     ]
    }
   ],
   "source": [
    "history = model.fit(email_sequences,\n",
    "                    y,\n",
    "                    batch_size=10,\n",
    "                    epochs=10,\n",
    "                    validation_split=0.2)"
   ]
  },
  {
   "cell_type": "code",
   "execution_count": 12,
   "metadata": {},
   "outputs": [],
   "source": [
    "test_email = ['test@gmail.com',\n",
    "              'another.example@yahoo.com',\n",
    "              'example@',\n",
    "              '@example.com',\n",
    "              'testtesttesttesttesttesttest',\n",
    "              'gmail.com',\n",
    "              'matt!@whatsup.net',\n",
    "              'jason@mindspring.org',\n",
    "              'blah@gatech.edu',\n",
    "              '@yahoo.com']\n",
    "test_seq = tzr.texts_to_sequences(test_email)"
   ]
  },
  {
   "cell_type": "code",
   "execution_count": 13,
   "metadata": {},
   "outputs": [],
   "source": [
    "test_seq = pad_sequences(test_seq, maxlen=email_sequences.shape[-1])"
   ]
  },
  {
   "cell_type": "code",
   "execution_count": 15,
   "metadata": {},
   "outputs": [
    {
     "data": {
      "text/plain": [
       "array([[0.827229],\n",
       "       [0.955771],\n",
       "       [0.199287],\n",
       "       [0.784823],\n",
       "       [0.405493],\n",
       "       [0.630595],\n",
       "       [0.382036],\n",
       "       [0.727012],\n",
       "       [0.700789],\n",
       "       [0.682027]], dtype=float32)"
      ]
     },
     "execution_count": 15,
     "metadata": {},
     "output_type": "execute_result"
    }
   ],
   "source": [
    "np.set_printoptions(formatter={'float': '{:2f}'.format})\n",
    "predictions = model.predict(test_seq)\n",
    "predictions"
   ]
  },
  {
   "cell_type": "markdown",
   "metadata": {},
   "source": [
    "If we take a cut-off of 0.7, we get the following for predictions."
   ]
  },
  {
   "cell_type": "markdown",
   "metadata": {},
   "source": [
    "Positive predictions:"
   ]
  },
  {
   "cell_type": "code",
   "execution_count": 31,
   "metadata": {},
   "outputs": [
    {
     "data": {
      "text/plain": [
       "array(['test@gmail.com', 'another.example@yahoo.com', '@example.com',\n",
       "       'jason@mindspring.org', 'blah@gatech.edu'],\n",
       "      dtype='<U28')"
      ]
     },
     "execution_count": 31,
     "metadata": {},
     "output_type": "execute_result"
    }
   ],
   "source": [
    "np.array(test_email)[predictions.reshape(-1) > 0.7]"
   ]
  },
  {
   "cell_type": "markdown",
   "metadata": {},
   "source": [
    "Negative predictions:"
   ]
  },
  {
   "cell_type": "code",
   "execution_count": 32,
   "metadata": {},
   "outputs": [
    {
     "data": {
      "text/plain": [
       "array(['example@', 'testtesttesttesttesttesttest', 'gmail.com',\n",
       "       'matt!@whatsup.net', '@yahoo.com'],\n",
       "      dtype='<U28')"
      ]
     },
     "execution_count": 32,
     "metadata": {},
     "output_type": "execute_result"
    }
   ],
   "source": [
    "np.array(test_email)[predictions.reshape(-1) < 0.7]"
   ]
  },
  {
   "cell_type": "markdown",
   "metadata": {},
   "source": [
    "Overall, our neural network trained on a fairly simplistic (and synthetic) dataset of e-mails is able to hone in on a few features to determine "
   ]
  }
 ],
 "metadata": {
  "kernelspec": {
   "display_name": "Python 3",
   "language": "python",
   "name": "python3"
  },
  "language_info": {
   "codemirror_mode": {
    "name": "ipython",
    "version": 3
   },
   "file_extension": ".py",
   "mimetype": "text/x-python",
   "name": "python",
   "nbconvert_exporter": "python",
   "pygments_lexer": "ipython3",
   "version": "3.6.2"
  }
 },
 "nbformat": 4,
 "nbformat_minor": 2
}
