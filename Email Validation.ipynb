{
 "cells": [
  {
   "cell_type": "markdown",
   "metadata": {},
   "source": [
    "I really liked Andrej Karpathy's article on Software 2.0 (https://medium.com/@karpathy/software-2-0-a64152b37c35) as it really gave a vision of what the future of software development could look like with tools like deep learning in the picture. Pete Warden had a follow-up to Andrej's post about it going into even more possibilities on the subject (https://petewarden.com/2017/11/13/deep-learning-is-eating-software/) and that got me thinking about how some of the simple things programmers do could be automated. \n",
    "\n",
    "The first item I thought of on that list was writing an email validator. Email validation turns out to be very tricky to get perfect but most programmers could come up with something that would be sufficient for the majority of cases."
   ]
  },
  {
   "cell_type": "markdown",
   "metadata": {},
   "source": [
    "Note: it looks like there's no longer a free download of the Alexa 1M top sites, so for domains, I'll pick them from the [Majestic Million](https://blog.majestic.com/development/majestic-million-csv-daily/)."
   ]
  },
  {
   "cell_type": "code",
   "execution_count": 30,
   "metadata": {},
   "outputs": [],
   "source": [
    "import random\n",
    "import string\n",
    "\n",
    "import scipy.stats\n",
    "\n",
    "def random_letters(length=10):\n",
    "    \"\"\"Generates random letters with a certain length\"\"\"\n",
    "    letters = string.ascii_lowercase\n",
    "    return ''.join(random.choice(letters) for i in range(length))\n",
    "\n",
    "def fake_email_generator(n=10):\n",
    "    \"\"\"Generates a fake 'valid-looking' email address\"\"\"\n",
    "    \n",
    "    domains = ['gmail.com', 'yahoo.com', 'aol.com', 'hotmail.com',\n",
    "              'live.com', 'mail.ru']\n",
    "    for _ in range(n):\n",
    "        l = scipy.stats.poisson(9).rvs() + 1  # Strictly positive Poisson with mean 10\n",
    "        domain = random.choice(domains)\n",
    "        yield random_letters(l) + '@' + domain\n",
    "        \n",
    "def fake_non_email_generator(n=10):\n",
    "    \"\"\"Generates a fake string that isn't an email address\"\"\"\n",
    "    for _ in range(n):\n",
    "        l = scipy.stats.poisson(9).rvs() + 1\n",
    "        yield random_letters(l)"
   ]
  },
  {
   "cell_type": "code",
   "execution_count": 32,
   "metadata": {},
   "outputs": [
    {
     "name": "stdout",
     "output_type": "stream",
     "text": [
      "['jftlwpsrbimchis@gmail.com', 'nmnydijn@mail.ru', 'gywhp@mail.ru', 'fgjorxecfy@hotmail.com', 'yfjwpsz@live.com', 'jfuazntshrb@gmail.com', 'kigwlgoacmi@gmail.com', 'zmdlvzgpnhkiw@mail.ru', 'dnlefovfzo@gmail.com', 'hiqfhcayyboii@mail.ru']\n",
      "['keqtmcw', 'tmdsv', 'ollylurmfvljzrnrhww', 'nvvedo', 'xteobcwmtvurhl', 'bbsmbnreoiyltdxdn', 'uhudwwixyj', 'hycoilxxri', 'ibqqdqsbuihads', 'ndquifquf']\n"
     ]
    }
   ],
   "source": [
    "print(list(fake_email_generator()))\n",
    "print(list(fake_non_email_generator()))"
   ]
  },
  {
   "cell_type": "code",
   "execution_count": 183,
   "metadata": {},
   "outputs": [],
   "source": [
    "import numpy as np\n",
    "\n",
    "raw_email_strings = list(fake_non_email_generator()) + list(fake_email_generator())\n",
    "y = np.concatenate([np.zeros((10,)), np.ones((10,))])"
   ]
  },
  {
   "cell_type": "code",
   "execution_count": 215,
   "metadata": {},
   "outputs": [
    {
     "name": "stdout",
     "output_type": "stream",
     "text": [
      "24\n"
     ]
    }
   ],
   "source": [
    "maxlen = 0\n",
    "for e in raw_email_strings:\n",
    "    if len(e) > maxlen:\n",
    "        maxlen = len(e)\n",
    "print(maxlen)"
   ]
  },
  {
   "cell_type": "code",
   "execution_count": 184,
   "metadata": {
    "scrolled": true
   },
   "outputs": [
    {
     "data": {
      "text/plain": [
       "array([ 0.,  0.,  0.,  0.,  0.,  0.,  0.,  0.,  0.,  0.,  1.,  1.,  1.,\n",
       "        1.,  1.,  1.,  1.,  1.,  1.,  1.])"
      ]
     },
     "execution_count": 184,
     "metadata": {},
     "output_type": "execute_result"
    }
   ],
   "source": [
    "np.concatenate([np.zeros((10,)), np.ones((10,))])"
   ]
  },
  {
   "cell_type": "code",
   "execution_count": 202,
   "metadata": {},
   "outputs": [],
   "source": [
    "from keras.preprocessing.text import Tokenizer\n",
    "from keras.preprocessing.sequence import pad_sequences\n",
    "\n",
    "tzr = Tokenizer(filters='', char_level=True)"
   ]
  },
  {
   "cell_type": "code",
   "execution_count": 204,
   "metadata": {},
   "outputs": [],
   "source": [
    "tzr.fit_on_texts(raw_email_strings)"
   ]
  },
  {
   "cell_type": "code",
   "execution_count": 187,
   "metadata": {},
   "outputs": [],
   "source": [
    "email_seq = tzr.texts_to_sequences(raw_email_strings)"
   ]
  },
  {
   "cell_type": "code",
   "execution_count": 216,
   "metadata": {},
   "outputs": [],
   "source": [
    "email_seq = pad_sequences(email_seq, maxlen=maxlen)"
   ]
  },
  {
   "cell_type": "code",
   "execution_count": 217,
   "metadata": {},
   "outputs": [
    {
     "data": {
      "text/plain": [
       "(20, 24)"
      ]
     },
     "execution_count": 217,
     "metadata": {},
     "output_type": "execute_result"
    }
   ],
   "source": [
    "email_seq.shape"
   ]
  },
  {
   "cell_type": "code",
   "execution_count": 194,
   "metadata": {},
   "outputs": [],
   "source": [
    "from keras.models import Sequential\n",
    "from keras.layers import Dense, SimpleRNN, Embedding"
   ]
  },
  {
   "cell_type": "code",
   "execution_count": 231,
   "metadata": {
    "scrolled": false
   },
   "outputs": [],
   "source": [
    "model = Sequential()\n",
    "model.add(Dense(200, input_dim=maxlen, activation='relu'))\n",
    "model.add(Dense(1, activation='sigmoid'))"
   ]
  },
  {
   "cell_type": "code",
   "execution_count": 232,
   "metadata": {},
   "outputs": [],
   "source": [
    "model.compile(optimizer='rmsprop', loss='binary_crossentropy', \n",
    "              metrics=['acc'])"
   ]
  },
  {
   "cell_type": "code",
   "execution_count": 233,
   "metadata": {},
   "outputs": [
    {
     "name": "stdout",
     "output_type": "stream",
     "text": [
      "_________________________________________________________________\n",
      "Layer (type)                 Output Shape              Param #   \n",
      "=================================================================\n",
      "dense_25 (Dense)             (None, 200)               5000      \n",
      "_________________________________________________________________\n",
      "dense_26 (Dense)             (None, 1)                 201       \n",
      "=================================================================\n",
      "Total params: 5,201\n",
      "Trainable params: 5,201\n",
      "Non-trainable params: 0\n",
      "_________________________________________________________________\n"
     ]
    }
   ],
   "source": [
    "model.summary()"
   ]
  },
  {
   "cell_type": "code",
   "execution_count": 234,
   "metadata": {},
   "outputs": [
    {
     "name": "stdout",
     "output_type": "stream",
     "text": [
      "Train on 16 samples, validate on 4 samples\n",
      "Epoch 1/10\n",
      "16/16 [==============================] - 0s 9ms/step - loss: 1.3449 - acc: 0.5625 - val_loss: 0.0782 - val_acc: 1.0000\n",
      "Epoch 2/10\n",
      "16/16 [==============================] - 0s 1ms/step - loss: 0.2592 - acc: 0.8750 - val_loss: 0.0202 - val_acc: 1.0000\n",
      "Epoch 3/10\n",
      "16/16 [==============================] - 0s 1ms/step - loss: 0.0862 - acc: 1.0000 - val_loss: 0.0230 - val_acc: 1.0000\n",
      "Epoch 4/10\n",
      "16/16 [==============================] - 0s 1ms/step - loss: 0.0532 - acc: 1.0000 - val_loss: 0.0129 - val_acc: 1.0000\n",
      "Epoch 5/10\n",
      "16/16 [==============================] - 0s 1ms/step - loss: 0.0274 - acc: 1.0000 - val_loss: 0.0057 - val_acc: 1.0000\n",
      "Epoch 6/10\n",
      "16/16 [==============================] - 0s 1ms/step - loss: 0.0174 - acc: 1.0000 - val_loss: 0.0052 - val_acc: 1.0000\n",
      "Epoch 7/10\n",
      "16/16 [==============================] - 0s 1ms/step - loss: 0.0107 - acc: 1.0000 - val_loss: 0.0031 - val_acc: 1.0000\n",
      "Epoch 8/10\n",
      "16/16 [==============================] - 0s 1ms/step - loss: 0.0064 - acc: 1.0000 - val_loss: 0.0013 - val_acc: 1.0000\n",
      "Epoch 9/10\n",
      "16/16 [==============================] - 0s 2ms/step - loss: 0.0048 - acc: 1.0000 - val_loss: 7.2094e-04 - val_acc: 1.0000\n",
      "Epoch 10/10\n",
      "16/16 [==============================] - 0s 1ms/step - loss: 0.0030 - acc: 1.0000 - val_loss: 7.2553e-04 - val_acc: 1.0000\n"
     ]
    }
   ],
   "source": [
    "history = model.fit(email_seq,\n",
    "                    y,\n",
    "                    batch_size=2,\n",
    "                    epochs=10,\n",
    "                    validation_split=0.2)"
   ]
  },
  {
   "cell_type": "code",
   "execution_count": 245,
   "metadata": {},
   "outputs": [],
   "source": [
    "test_email = ['test@gmail.com',\n",
    "             'another.example@yahoo.com',\n",
    "             'example@',\n",
    "             '@example.com',\n",
    "             'testtesttesttesttesttesttest',\n",
    "             'gmail.com']\n",
    "test_seq = tzr.texts_to_sequences(test_email)"
   ]
  },
  {
   "cell_type": "code",
   "execution_count": 246,
   "metadata": {},
   "outputs": [],
   "source": [
    "test_seq = pad_sequences(test_seq, maxlen=maxlen)"
   ]
  },
  {
   "cell_type": "code",
   "execution_count": 247,
   "metadata": {},
   "outputs": [
    {
     "data": {
      "text/plain": [
       "array([[0.975970],\n",
       "       [0.999845],\n",
       "       [0.000176],\n",
       "       [0.914399],\n",
       "       [0.743429],\n",
       "       [0.057131]], dtype=float32)"
      ]
     },
     "execution_count": 247,
     "metadata": {},
     "output_type": "execute_result"
    }
   ],
   "source": [
    "np.set_printoptions(formatter={'float': '{:2f}'.format})\n",
    "model.predict(test_seq)"
   ]
  }
 ],
 "metadata": {
  "kernelspec": {
   "display_name": "Python 3",
   "language": "python",
   "name": "python3"
  },
  "language_info": {
   "codemirror_mode": {
    "name": "ipython",
    "version": 3
   },
   "file_extension": ".py",
   "mimetype": "text/x-python",
   "name": "python",
   "nbconvert_exporter": "python",
   "pygments_lexer": "ipython3",
   "version": "3.6.2"
  }
 },
 "nbformat": 4,
 "nbformat_minor": 2
}
